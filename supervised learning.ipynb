{
 "cells": [
  {
   "cell_type": "markdown",
   "id": "fa67f691",
   "metadata": {},
   "source": [
    "Import necessary libraries"
   ]
  },
  {
   "cell_type": "code",
   "execution_count": 1,
   "id": "cdf9468e",
   "metadata": {},
   "outputs": [],
   "source": [
    "import numpy as np\n",
    "import pandas as pd\n",
    "import matplotlib.pyplot as plt\n"
   ]
  },
  {
   "cell_type": "code",
   "execution_count": 3,
   "id": "73f7485d",
   "metadata": {},
   "outputs": [],
   "source": [
    "# Load train, test, and gender_submission datasets\n",
    "train_data = pd.read_csv(\"train.csv\")\n",
    "test_data = pd.read_csv(\"test.csv\")\n",
    "gender_submission = pd.read_csv(\"gender_submission.csv\")"
   ]
  },
  {
   "cell_type": "markdown",
   "id": "f2212cdb",
   "metadata": {},
   "source": [
    "data preprocessing "
   ]
  },
  {
   "cell_type": "code",
   "execution_count": 4,
   "id": "541044a1",
   "metadata": {},
   "outputs": [
    {
     "name": "stdout",
     "output_type": "stream",
     "text": [
      "<class 'pandas.core.frame.DataFrame'>\n",
      "RangeIndex: 891 entries, 0 to 890\n",
      "Data columns (total 12 columns):\n",
      " #   Column       Non-Null Count  Dtype  \n",
      "---  ------       --------------  -----  \n",
      " 0   PassengerId  891 non-null    int64  \n",
      " 1   Survived     891 non-null    int64  \n",
      " 2   Pclass       891 non-null    int64  \n",
      " 3   Name         891 non-null    object \n",
      " 4   Sex          891 non-null    object \n",
      " 5   Age          714 non-null    float64\n",
      " 6   SibSp        891 non-null    int64  \n",
      " 7   Parch        891 non-null    int64  \n",
      " 8   Ticket       891 non-null    object \n",
      " 9   Fare         891 non-null    float64\n",
      " 10  Cabin        204 non-null    object \n",
      " 11  Embarked     889 non-null    object \n",
      "dtypes: float64(2), int64(5), object(5)\n",
      "memory usage: 83.7+ KB\n",
      "None\n",
      "       PassengerId    Survived      Pclass         Age       SibSp  \\\n",
      "count   891.000000  891.000000  891.000000  714.000000  891.000000   \n",
      "mean    446.000000    0.383838    2.308642   29.699118    0.523008   \n",
      "std     257.353842    0.486592    0.836071   14.526497    1.102743   \n",
      "min       1.000000    0.000000    1.000000    0.420000    0.000000   \n",
      "25%     223.500000    0.000000    2.000000   20.125000    0.000000   \n",
      "50%     446.000000    0.000000    3.000000   28.000000    0.000000   \n",
      "75%     668.500000    1.000000    3.000000   38.000000    1.000000   \n",
      "max     891.000000    1.000000    3.000000   80.000000    8.000000   \n",
      "\n",
      "            Parch        Fare  \n",
      "count  891.000000  891.000000  \n",
      "mean     0.381594   32.204208  \n",
      "std      0.806057   49.693429  \n",
      "min      0.000000    0.000000  \n",
      "25%      0.000000    7.910400  \n",
      "50%      0.000000   14.454200  \n",
      "75%      0.000000   31.000000  \n",
      "max      6.000000  512.329200  \n",
      "   PassengerId  Survived  Pclass  \\\n",
      "0            1         0       3   \n",
      "1            2         1       1   \n",
      "2            3         1       3   \n",
      "3            4         1       1   \n",
      "4            5         0       3   \n",
      "\n",
      "                                                Name     Sex   Age  SibSp  \\\n",
      "0                            Braund, Mr. Owen Harris    male  22.0      1   \n",
      "1  Cumings, Mrs. John Bradley (Florence Briggs Th...  female  38.0      1   \n",
      "2                             Heikkinen, Miss. Laina  female  26.0      0   \n",
      "3       Futrelle, Mrs. Jacques Heath (Lily May Peel)  female  35.0      1   \n",
      "4                           Allen, Mr. William Henry    male  35.0      0   \n",
      "\n",
      "   Parch            Ticket     Fare Cabin Embarked  \n",
      "0      0         A/5 21171   7.2500   NaN        S  \n",
      "1      0          PC 17599  71.2833   C85        C  \n",
      "2      0  STON/O2. 3101282   7.9250   NaN        S  \n",
      "3      0            113803  53.1000  C123        S  \n",
      "4      0            373450   8.0500   NaN        S  \n"
     ]
    }
   ],
   "source": [
    "# Display basic information about train data\n",
    "print(train_data.info())\n",
    "\n",
    "# Display summary statistics\n",
    "print(train_data.describe())\n",
    "\n",
    "# Display the first few rows of the train dataset\n",
    "print(train_data.head())"
   ]
  },
  {
   "cell_type": "markdown",
   "id": "dd6cda0d",
   "metadata": {},
   "source": [
    "Handle Missing Values:"
   ]
  },
  {
   "cell_type": "code",
   "execution_count": 5,
   "id": "9f1a69e5",
   "metadata": {},
   "outputs": [
    {
     "name": "stdout",
     "output_type": "stream",
     "text": [
      "PassengerId      0\n",
      "Survived         0\n",
      "Pclass           0\n",
      "Name             0\n",
      "Sex              0\n",
      "Age            177\n",
      "SibSp            0\n",
      "Parch            0\n",
      "Ticket           0\n",
      "Fare             0\n",
      "Cabin          687\n",
      "Embarked         2\n",
      "dtype: int64\n"
     ]
    }
   ],
   "source": [
    "# Display the number of missing values in each column of the train dataset\n",
    "print(train_data.isnull().sum())"
   ]
  },
  {
   "cell_type": "code",
   "execution_count": 9,
   "id": "db075da7",
   "metadata": {},
   "outputs": [],
   "source": [
    "\n",
    "# One-hot encode 'Sex' and 'Embarked' columns\n",
    "train_data = pd.get_dummies(train_data, columns=['Sex', 'Embarked'])\n",
    "test_data = pd.get_dummies(test_data, columns=['Sex', 'Embarked'])\n"
   ]
  },
  {
   "cell_type": "code",
   "execution_count": 18,
   "id": "cf6b6ebe",
   "metadata": {},
   "outputs": [
    {
     "name": "stdout",
     "output_type": "stream",
     "text": [
      "<class 'pandas.core.frame.DataFrame'>\n",
      "RangeIndex: 891 entries, 0 to 890\n",
      "Data columns (total 14 columns):\n",
      " #   Column       Non-Null Count  Dtype  \n",
      "---  ------       --------------  -----  \n",
      " 0   PassengerId  891 non-null    int64  \n",
      " 1   Survived     891 non-null    int64  \n",
      " 2   Pclass       891 non-null    int64  \n",
      " 3   Name         891 non-null    object \n",
      " 4   Age          891 non-null    float64\n",
      " 5   SibSp        891 non-null    int64  \n",
      " 6   Parch        891 non-null    int64  \n",
      " 7   Ticket       891 non-null    object \n",
      " 8   Fare         891 non-null    float64\n",
      " 9   Sex_female   891 non-null    uint8  \n",
      " 10  Sex_male     891 non-null    uint8  \n",
      " 11  Embarked_C   891 non-null    uint8  \n",
      " 12  Embarked_Q   891 non-null    uint8  \n",
      " 13  Embarked_S   891 non-null    uint8  \n",
      "dtypes: float64(2), int64(5), object(2), uint8(5)\n",
      "memory usage: 67.1+ KB\n",
      "None\n"
     ]
    }
   ],
   "source": [
    "print(train_data.info())"
   ]
  },
  {
   "cell_type": "code",
   "execution_count": 10,
   "id": "f595ae5a",
   "metadata": {},
   "outputs": [],
   "source": [
    "# Impute missing values in the 'Age' column with the mean\n",
    "mean_age = train_data['Age'].mean()\n",
    "train_data['Age'].fillna(mean_age, inplace=True)\n",
    "test_data['Age'].fillna(mean_age, inplace=True)"
   ]
  },
  {
   "cell_type": "code",
   "execution_count": 11,
   "id": "d4f55c6e",
   "metadata": {},
   "outputs": [],
   "source": [
    "# Drop the 'Cabin' column\n",
    "train_data.drop('Cabin', axis=1, inplace=True)\n",
    "test_data.drop('Cabin', axis=1, inplace=True)\n"
   ]
  },
  {
   "cell_type": "markdown",
   "id": "9f5b23dd",
   "metadata": {},
   "source": [
    "Visualize the Data"
   ]
  },
  {
   "cell_type": "code",
   "execution_count": 14,
   "id": "a0233a11",
   "metadata": {
    "scrolled": true
   },
   "outputs": [
    {
     "data": {
      "image/png": "[encoded data removed]",
      "text/plain": [
       "<Figure size 800x500 with 1 Axes>"
      ]
     },
     "metadata": {},
     "output_type": "display_data"
    }
   ],
   "source": [
    "# Plot the distribution of survived and non-survived passengers\n",
    "plt.figure(figsize=(8, 5))\n",
    "train_data['Survived'].value_counts().plot(kind='bar', color=['skyblue', 'salmon'])\n",
    "plt.title('Distribution of Survived and Non-Survived Passengers')\n",
    "plt.xlabel('Survival Status')\n",
    "plt.ylabel('Count')\n",
    "plt.xticks(ticks=[0, 1], labels=['Non-Survived', 'Survived'], rotation=0)\n",
    "plt.show()"
   ]
  },
  {
   "cell_type": "code",
   "execution_count": 15,
   "id": "cfaeffde",
   "metadata": {},
   "outputs": [
    {
     "data": {
      "image/png": "[encoded data removed]",
      "text/plain": [
       "<Figure size 800x500 with 1 Axes>"
      ]
     },
     "metadata": {},
     "output_type": "display_data"
    }
   ],
   "source": [
    "# Plot the distribution of passenger ages\n",
    "plt.figure(figsize=(8, 5))\n",
    "plt.hist(train_data['Age'], bins=20, color='skyblue', edgecolor='black')\n",
    "plt.title('Distribution of Passenger Ages')\n",
    "plt.xlabel('Age')\n",
    "plt.ylabel('Count')\n",
    "plt.show()\n"
   ]
  },
  {
   "cell_type": "code",
   "execution_count": 16,
   "id": "06dba1c1",
   "metadata": {},
   "outputs": [],
   "source": [
    "import seaborn as sns\n"
   ]
  },
  {
   "cell_type": "code",
   "execution_count": 17,
   "id": "fa39d91c",
   "metadata": {},
   "outputs": [
    {
     "data": {
      "image/png": "[encoded data removed]",
      "text/plain": [
       "<Figure size 800x500 with 1 Axes>"
      ]
     },
     "metadata": {},
     "output_type": "display_data"
    }
   ],
   "source": [
    "# Import Seaborn\n",
    "import seaborn as sns\n",
    "\n",
    "# Plot the relationship between Pclass and survival\n",
    "plt.figure(figsize=(8, 5))\n",
    "sns.countplot(x='Pclass', hue='Survived', data=train_data, palette='pastel')\n",
    "plt.title('Survival Count by Passenger Class')\n",
    "plt.xlabel('Passenger Class')\n",
    "plt.ylabel('Count')\n",
    "plt.show()\n"
   ]
  },
  {
   "cell_type": "markdown",
   "id": "5a524293",
   "metadata": {},
   "source": [
    "# Naive Bayes algorithm"
   ]
  },
  {
   "cell_type": "code",
   "execution_count": 19,
   "id": "6213c61d",
   "metadata": {},
   "outputs": [],
   "source": [
    "def separate_by_class(X, y):\n",
    "    separated = {}\n",
    "    for i in range(len(X)):\n",
    "        features = X.iloc[i]\n",
    "        label = y.iloc[i]\n",
    "        if label not in separated:\n",
    "            separated[label] = []\n",
    "        separated[label].append(features)\n",
    "    return separated\n"
   ]
  },
  {
   "cell_type": "code",
   "execution_count": 20,
   "id": "3c396662",
   "metadata": {},
   "outputs": [],
   "source": [
    "def calculate_statistics(data):\n",
    "    statistics = [(np.mean(attribute), np.std(attribute)) for attribute in zip(*data)]\n",
    "    return statistics\n"
   ]
  },
  {
   "cell_type": "code",
   "execution_count": 21,
   "id": "51ce375c",
   "metadata": {},
   "outputs": [],
   "source": [
    "def summarize_dataset(X, y):\n",
    "    separated = separate_by_class(X, y)\n",
    "    summaries = {}\n",
    "    for class_value, instances in separated.items():\n",
    "        summaries[class_value] = calculate_statistics(instances)\n",
    "    return summaries\n"
   ]
  },
  {
   "cell_type": "code",
   "execution_count": 22,
   "id": "0a1440a6",
   "metadata": {},
   "outputs": [],
   "source": [
    "def calculate_probability(x, mean, std):\n",
    "    exponent = np.exp(-((x - mean)**2 / (2 * std**2)))\n",
    "    return (1 / (np.sqrt(2 * np.pi) * std)) * exponent\n"
   ]
  },
  {
   "cell_type": "code",
   "execution_count": 23,
   "id": "31e1723c",
   "metadata": {},
   "outputs": [],
   "source": [
    "def calculate_class_probabilities(summaries, input_vector):\n",
    "    probabilities = {}\n",
    "    for class_value, class_summaries in summaries.items():\n",
    "        probabilities[class_value] = 1\n",
    "        for i in range(len(class_summaries)):\n",
    "            mean, std = class_summaries[i]\n",
    "            x = input_vector[i]\n",
    "            probabilities[class_value] *= calculate_probability(x, mean, std)\n",
    "    return probabilities\n"
   ]
  },
  {
   "cell_type": "code",
   "execution_count": 24,
   "id": "d9b87a31",
   "metadata": {},
   "outputs": [],
   "source": [
    "def predict(summaries, input_vector):\n",
    "    probabilities = calculate_class_probabilities(summaries, input_vector)\n",
    "    best_label, best_prob = None, -1\n",
    "    for class_value, probability in probabilities.items():\n",
    "        if best_label is None or probability > best_prob:\n",
    "            best_prob = probability\n",
    "            best_label = class_value\n",
    "    return best_label\n"
   ]
  },
  {
   "cell_type": "code",
   "execution_count": 25,
   "id": "aa5d11c5",
   "metadata": {},
   "outputs": [],
   "source": [
    "def naive_bayes_algorithm(X_train, y_train, input_vector):\n",
    "    summaries = summarize_dataset(X_train, y_train)\n",
    "    prediction = predict(summaries, input_vector)\n",
    "    return prediction\n"
   ]
  },
  {
   "cell_type": "code",
   "execution_count": 29,
   "id": "e2d7d020",
   "metadata": {},
   "outputs": [],
   "source": [
    "# Assuming you have a DataFrame named 'train_data' for the training dataset\n",
    "X = train_data[['Pclass', 'Age', 'SibSp', 'Parch', 'Fare', 'Sex_female', 'Sex_male', 'Embarked_C', 'Embarked_Q', 'Embarked_S']]\n",
    "# Assuming your label column is named 'Survived'\n",
    "y = train_data['Survived']\n",
    "from sklearn.model_selection import train_test_split\n",
    "\n",
    "# Assuming you have features X and labels y\n",
    "X_train, X_test, y_train, y_test = train_test_split(X, y, test_size=0.2, random_state=42)\n"
   ]
  },
  {
   "cell_type": "code",
   "execution_count": 30,
   "id": "2e1a57e5",
   "metadata": {},
   "outputs": [],
   "source": [
    "summaries = summarize_dataset(X_train, y_train)"
   ]
  },
  {
   "cell_type": "code",
   "execution_count": 31,
   "id": "e755fbf4",
   "metadata": {},
   "outputs": [],
   "source": [
    "predictions = []\n",
    "\n",
    "for i in range(len(X_test)):\n",
    "    input_vector = X_test.iloc[i]\n",
    "    prediction = naive_bayes_algorithm(X_train, y_train, input_vector)\n",
    "    predictions.append(prediction)\n"
   ]
  },
  {
   "cell_type": "markdown",
   "id": "be69e740",
   "metadata": {},
   "source": [
    "Accuracy:"
   ]
  },
  {
   "cell_type": "markdown",
   "id": "4e5f1a8e",
   "metadata": {},
   "source": []
  },
  {
   "cell_type": "markdown",
   "id": "4c16c1ee",
   "metadata": {},
   "source": []
  },
  {
   "cell_type": "code",
   "execution_count": 32,
   "id": "5a2a86a8",
   "metadata": {},
   "outputs": [
    {
     "name": "stdout",
     "output_type": "stream",
     "text": [
      "Accuracy: 0.776536312849162\n",
      "              precision    recall  f1-score   support\n",
      "\n",
      "           0       0.84      0.77      0.80       105\n",
      "           1       0.71      0.78      0.74        74\n",
      "\n",
      "    accuracy                           0.78       179\n",
      "   macro avg       0.77      0.78      0.77       179\n",
      "weighted avg       0.78      0.78      0.78       179\n",
      "\n"
     ]
    }
   ],
   "source": [
    "from sklearn.metrics import accuracy_score, classification_report\n",
    "\n",
    "accuracy = accuracy_score(y_test, predictions)\n",
    "print(f\"Accuracy: {accuracy}\")\n",
    "\n",
    "# Optionally, print a classification report for more detailed evaluation\n",
    "print(classification_report(y_test, predictions))\n"
   ]
  },
  {
   "cell_type": "markdown",
   "id": "6c2a9a05",
   "metadata": {},
   "source": [
    "# KNN algorithm"
   ]
  },
  {
   "cell_type": "code",
   "execution_count": 35,
   "id": "fff3e756",
   "metadata": {},
   "outputs": [],
   "source": [
    "import numpy as np\n",
    "from collections import Counter\n",
    "\n",
    "def euclidean_distance(x1, x2):\n",
    "    return np.sqrt(np.sum((x1 - x2)**2))\n",
    "\n",
    "def hamming_distance(x1, x2):\n",
    "    return np.sum(x1 != x2)\n",
    "\n",
    "def k_nearest_neighbors(X_train, y_train, x_test, k=5):\n",
    "    distances = [euclidean_distance(x_test[:-3], x[:-3]) + hamming_distance(x_test[-3:], x[-3:]) for x in X_train.values]\n",
    "    k_indices = np.argsort(distances)[:k]\n",
    "    k_nearest_labels = [y_train.iloc[i] for i in k_indices]\n",
    "    most_common = Counter(k_nearest_labels).most_common(1)\n",
    "    return most_common[0][0]\n",
    "\n",
    "def knn_algorithm(X_train, y_train, X_test, k=5):\n",
    "    predictions = [k_nearest_neighbors(X_train, y_train, x_test, k) for _, x_test in X_test.iterrows()]\n",
    "    return predictions\n",
    "\n"
   ]
  },
  {
   "cell_type": "code",
   "execution_count": 36,
   "id": "7a2093db",
   "metadata": {},
   "outputs": [],
   "source": [
    "X_test_knn = test_data[['Pclass', 'Age', 'SibSp', 'Parch', 'Fare', 'Sex_female', 'Sex_male', 'Embarked_C', 'Embarked_Q', 'Embarked_S']]\n"
   ]
  },
  {
   "cell_type": "code",
   "execution_count": 39,
   "id": "9ab7a603",
   "metadata": {},
   "outputs": [],
   "source": [
    "predictions_knn = knn_algorithm(X_train, y_train, X_test_knn, k=5)\n"
   ]
  },
  {
   "cell_type": "code",
   "execution_count": 41,
   "id": "531d0052",
   "metadata": {},
   "outputs": [
    {
     "name": "stdout",
     "output_type": "stream",
     "text": [
      "Shape of y_test: (179,)\n",
      "Shape of predictions_knn: 418\n"
     ]
    }
   ],
   "source": [
    "print(\"Shape of y_test:\", y_test.shape)\n",
    "print(\"Shape of predictions_knn:\", len(predictions_knn))\n"
   ]
  },
  {
   "cell_type": "code",
   "execution_count": 42,
   "id": "b8759453",
   "metadata": {},
   "outputs": [],
   "source": [
    "X_test_knn_subset = X_test_knn.head(179)\n",
    "predictions_knn = knn_algorithm(X_train, y_train, X_test_knn_subset, k=5)\n"
   ]
  },
  {
   "cell_type": "code",
   "execution_count": 43,
   "id": "9d6699c5",
   "metadata": {},
   "outputs": [],
   "source": [
    "from sklearn.model_selection import train_test_split\n",
    "\n",
    "# Assuming you have features X and labels y\n",
    "X_train, X_test, y_train, y_test = train_test_split(X, y, test_size=0.2, random_state=42)\n"
   ]
  },
  {
   "cell_type": "markdown",
   "id": "a040ef53",
   "metadata": {},
   "source": [
    "accuracy:"
   ]
  },
  {
   "cell_type": "code",
   "execution_count": 44,
   "id": "a6880d89",
   "metadata": {
    "scrolled": true
   },
   "outputs": [
    {
     "name": "stdout",
     "output_type": "stream",
     "text": [
      "Accuracy (KNN): 0.4860335195530726\n",
      "              precision    recall  f1-score   support\n",
      "\n",
      "           0       0.55      0.63      0.59       105\n",
      "           1       0.35      0.28      0.31        74\n",
      "\n",
      "    accuracy                           0.49       179\n",
      "   macro avg       0.45      0.46      0.45       179\n",
      "weighted avg       0.47      0.49      0.48       179\n",
      "\n"
     ]
    }
   ],
   "source": [
    "from sklearn.metrics import accuracy_score, classification_report\n",
    "\n",
    "accuracy_knn = accuracy_score(y_test, predictions_knn)\n",
    "print(f\"Accuracy (KNN): {accuracy_knn}\")\n",
    "\n",
    "# Optionally, print a classification report for more detailed evaluation\n",
    "print(classification_report(y_test, predictions_knn))\n"
   ]
  },
  {
   "cell_type": "code",
   "execution_count": 46,
   "id": "3752ee29",
   "metadata": {},
   "outputs": [
    {
     "name": "stdout",
     "output_type": "stream",
     "text": [
      "179\n"
     ]
    }
   ],
   "source": [
    "print(len(predictions_knn))\n"
   ]
  },
  {
   "cell_type": "code",
   "execution_count": 49,
   "id": "90521085",
   "metadata": {},
   "outputs": [
    {
     "name": "stdout",
     "output_type": "stream",
     "text": [
      "Index(['Pclass', 'Age', 'SibSp', 'Parch', 'Fare', 'Sex_female', 'Sex_male',\n",
      "       'Embarked_C', 'Embarked_Q', 'Embarked_S'],\n",
      "      dtype='object')\n"
     ]
    }
   ],
   "source": [
    "print(X_test_knn.columns)\n"
   ]
  },
  {
   "cell_type": "markdown",
   "id": "29bf46fb",
   "metadata": {},
   "source": [
    "gtihub link\n",
    "\n",
    "https://github.com/nidhikoria/supervised-learning-classification\n"
   ]
  }
 ],
 "metadata": {
  "kernelspec": {
   "display_name": "Python 3 (ipykernel)",
   "language": "python",
   "name": "python3"
  },
  "language_info": {
   "codemirror_mode": {
    "name": "ipython",
    "version": 3
   },
   "file_extension": ".py",
   "mimetype": "text/x-python",
   "name": "python",
   "nbconvert_exporter": "python",
   "pygments_lexer": "ipython3",
   "version": "3.11.3"
  }
 },
 "nbformat": 4,
 "nbformat_minor": 5
}
